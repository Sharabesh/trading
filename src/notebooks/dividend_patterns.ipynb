{
 "cells": [
  {
   "cell_type": "code",
   "execution_count": 13,
   "metadata": {},
   "outputs": [],
   "source": [
    "import pandas as pd \n",
    "import numpy as np \n",
    "import matplotlib.pyplot as plt"
   ]
  },
  {
   "cell_type": "code",
   "execution_count": 5,
   "metadata": {},
   "outputs": [],
   "source": [
    "# Import existing api configuration code\n",
    "import sys\n",
    "sys.path.append('..')"
   ]
  },
  {
   "cell_type": "code",
   "execution_count": 6,
   "metadata": {},
   "outputs": [
    {
     "name": "stdout",
     "output_type": "stream",
     "text": [
      "ACCOUNT STATUS IS ACTIVE\n"
     ]
    }
   ],
   "source": [
    "from config import * "
   ]
  },
  {
   "cell_type": "code",
   "execution_count": 7,
   "metadata": {},
   "outputs": [],
   "source": [
    "polygon = api.polygon"
   ]
  },
  {
   "cell_type": "code",
   "execution_count": 57,
   "metadata": {},
   "outputs": [],
   "source": [
    "def fetch_dividends(sym):\n",
    "    \"\"\"Given a symbol returns a dataframe of dividends\"\"\"\n",
    "    symbol_dividends = polygon.dividends(sym)\n",
    "    fields = ['amount', 'declaredDate', 'exDate', 'indicated', 'paymentDate', 'qualified', 'recordDate', 'symbol', 'type']\n",
    "    # Initialize general data structure\n",
    "    output = {}\n",
    "    for field in fields:\n",
    "        output[field] = []\n",
    "    \n",
    "    for dividend in symbol_dividends:\n",
    "        for field in fields:\n",
    "            converted = dividend._raw\n",
    "            try:\n",
    "                output[field].append(converted[field])\n",
    "            except:\n",
    "                output[field].append(np.nan)\n",
    "            \n",
    "    df = pd.DataFrame.from_dict(output)\n",
    "    for date_field in [x for x in fields if 'Date' in x]:\n",
    "        df[date_field] = pd.to_datetime(df[date_field])\n",
    "    return df \n",
    "\n",
    "def fetch_stock(sym, limit = 10000):\n",
    "    \"\"\"Fetches limit entries for a given stock symbol and puts it in a dataframe\"\"\"\n",
    "    agg = polygon.historic_agg('day', sym, limit=limit).df\n",
    "    dates = [str(x).split(\"T\")[0] for x in agg.index.values]\n",
    "    agg['formatted_dates'] = pd.to_datetime(dates)\n",
    "    return agg\n",
    "\n",
    "def fetch_dividend_pricing(sym, limit = 10000):\n",
    "    \"\"\"Returns relevant price characteristics for a dividend stock over some period of time\n",
    "    Includes\n",
    "    Exdate - Ex dividend date \n",
    "    amount - The amount of the dividend output\n",
    "    open   - The opening price of the stock\n",
    "    high   - The high price of the stock that day \n",
    "    low    - The low price of the stock that day \n",
    "    close  - The closing price of the stock that day    \n",
    "    \"\"\"\n",
    "    a_dat = fetch_stock(sym, limit = limit)\n",
    "    a_div = fetch_dividends(sym)\n",
    "    joining_a_dat = a_dat[['open', 'high', 'low', 'close', 'formatted_dates']]\n",
    "    joining_a_dat = joining_a_dat.reset_index().drop(['day'], axis=1).set_index('formatted_dates')\n",
    "    joining_a_div = a_div.drop(['type','qualified','indicated', 'paymentDate', 'recordDate', 'symbol', 'declaredDate'], axis=1).set_index('exDate')\n",
    "    joined_data = joining_a_div.join(joining_a_dat)\n",
    "    return joined_data[pd.notnull(joined_data.open)]\n",
    "    \n",
    "    "
   ]
  },
  {
   "cell_type": "code",
   "execution_count": 43,
   "metadata": {},
   "outputs": [],
   "source": [
    "appl_dat = fetch_stock(\"AAPL\")\n",
    "appl_div = fetch_dividends(\"AAPL\")"
   ]
  },
  {
   "cell_type": "code",
   "execution_count": 58,
   "metadata": {},
   "outputs": [],
   "source": [
    "appl_dat = fetch_dividend_pricing(\"AAPL\")"
   ]
  },
  {
   "cell_type": "code",
   "execution_count": 60,
   "metadata": {},
   "outputs": [
    {
     "data": {
      "text/html": [
       "<div>\n",
       "<style scoped>\n",
       "    .dataframe tbody tr th:only-of-type {\n",
       "        vertical-align: middle;\n",
       "    }\n",
       "\n",
       "    .dataframe tbody tr th {\n",
       "        vertical-align: top;\n",
       "    }\n",
       "\n",
       "    .dataframe thead th {\n",
       "        text-align: right;\n",
       "    }\n",
       "</style>\n",
       "<table border=\"1\" class=\"dataframe\">\n",
       "  <thead>\n",
       "    <tr style=\"text-align: right;\">\n",
       "      <th></th>\n",
       "      <th>amount</th>\n",
       "      <th>open</th>\n",
       "      <th>high</th>\n",
       "      <th>low</th>\n",
       "      <th>close</th>\n",
       "    </tr>\n",
       "    <tr>\n",
       "      <th>exDate</th>\n",
       "      <th></th>\n",
       "      <th></th>\n",
       "      <th></th>\n",
       "      <th></th>\n",
       "      <th></th>\n",
       "    </tr>\n",
       "  </thead>\n",
       "  <tbody>\n",
       "    <tr>\n",
       "      <th>2018-11-08</th>\n",
       "      <td>0.73</td>\n",
       "      <td>210.00</td>\n",
       "      <td>210.12</td>\n",
       "      <td>206.75</td>\n",
       "      <td>208.4900</td>\n",
       "    </tr>\n",
       "    <tr>\n",
       "      <th>2018-08-10</th>\n",
       "      <td>0.73</td>\n",
       "      <td>207.36</td>\n",
       "      <td>209.10</td>\n",
       "      <td>206.67</td>\n",
       "      <td>207.5300</td>\n",
       "    </tr>\n",
       "    <tr>\n",
       "      <th>2018-05-11</th>\n",
       "      <td>0.73</td>\n",
       "      <td>189.49</td>\n",
       "      <td>190.06</td>\n",
       "      <td>187.45</td>\n",
       "      <td>188.5900</td>\n",
       "    </tr>\n",
       "    <tr>\n",
       "      <th>2018-02-09</th>\n",
       "      <td>0.63</td>\n",
       "      <td>157.07</td>\n",
       "      <td>157.89</td>\n",
       "      <td>150.24</td>\n",
       "      <td>151.2545</td>\n",
       "    </tr>\n",
       "    <tr>\n",
       "      <th>2017-11-10</th>\n",
       "      <td>0.63</td>\n",
       "      <td>175.11</td>\n",
       "      <td>175.38</td>\n",
       "      <td>174.27</td>\n",
       "      <td>174.6700</td>\n",
       "    </tr>\n",
       "  </tbody>\n",
       "</table>\n",
       "</div>"
      ],
      "text/plain": [
       "            amount    open    high     low     close\n",
       "exDate                                              \n",
       "2018-11-08    0.73  210.00  210.12  206.75  208.4900\n",
       "2018-08-10    0.73  207.36  209.10  206.67  207.5300\n",
       "2018-05-11    0.73  189.49  190.06  187.45  188.5900\n",
       "2018-02-09    0.63  157.07  157.89  150.24  151.2545\n",
       "2017-11-10    0.63  175.11  175.38  174.27  174.6700"
      ]
     },
     "execution_count": 60,
     "metadata": {},
     "output_type": "execute_result"
    }
   ],
   "source": [
    "appl_dat.head()"
   ]
  },
  {
   "cell_type": "code",
   "execution_count": 64,
   "metadata": {},
   "outputs": [
    {
     "data": {
      "text/plain": [
       "Timestamp('2018-11-06 00:00:00')"
      ]
     },
     "execution_count": 64,
     "metadata": {},
     "output_type": "execute_result"
    }
   ],
   "source": [
    "appl_dat.index[0] - pd.Timedelta(days = 2)"
   ]
  },
  {
   "cell_type": "code",
   "execution_count": 65,
   "metadata": {},
   "outputs": [],
   "source": [
    "# TODO Find a way to determine whether the stock recovers well post-dividend distribution"
   ]
  },
  {
   "cell_type": "code",
   "execution_count": null,
   "metadata": {},
   "outputs": [],
   "source": []
  }
 ],
 "metadata": {
  "kernelspec": {
   "display_name": "Python 3",
   "language": "python",
   "name": "python3"
  },
  "language_info": {
   "codemirror_mode": {
    "name": "ipython",
    "version": 3
   },
   "file_extension": ".py",
   "mimetype": "text/x-python",
   "name": "python",
   "nbconvert_exporter": "python",
   "pygments_lexer": "ipython3",
   "version": "3.7.2"
  }
 },
 "nbformat": 4,
 "nbformat_minor": 2
}
