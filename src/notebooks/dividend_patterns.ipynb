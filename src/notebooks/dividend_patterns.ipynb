{
 "cells": [
  {
   "cell_type": "code",
   "execution_count": 19,
   "metadata": {},
   "outputs": [],
   "source": [
    "import pandas as pd \n",
    "import numpy as np "
   ]
  },
  {
   "cell_type": "code",
   "execution_count": 17,
   "metadata": {},
   "outputs": [],
   "source": [
    "# Import existing api configuration code\n",
    "import sys\n",
    "sys.path.append('..')"
   ]
  },
  {
   "cell_type": "code",
   "execution_count": 18,
   "metadata": {},
   "outputs": [
    {
     "name": "stdout",
     "output_type": "stream",
     "text": [
      "ACCOUNT STATUS IS ACTIVE\n"
     ]
    }
   ],
   "source": [
    "from config import * "
   ]
  },
  {
   "cell_type": "code",
   "execution_count": 21,
   "metadata": {},
   "outputs": [],
   "source": [
    "polygon = api.polygon"
   ]
  },
  {
   "cell_type": "code",
   "execution_count": 64,
   "metadata": {},
   "outputs": [
    {
     "ename": "AttributeError",
     "evalue": "module 'pandas' has no attribute 'null'",
     "output_type": "error",
     "traceback": [
      "\u001b[0;31m---------------------------------------------------------------------------\u001b[0m",
      "\u001b[0;31mAttributeError\u001b[0m                            Traceback (most recent call last)",
      "\u001b[0;32m<ipython-input-64-a38b29b4d4b9>\u001b[0m in \u001b[0;36m<module>\u001b[0;34m()\u001b[0m\n\u001b[0;32m----> 1\u001b[0;31m \u001b[0mpd\u001b[0m\u001b[0;34m.\u001b[0m\u001b[0mnull\u001b[0m\u001b[0;34m\u001b[0m\u001b[0;34m\u001b[0m\u001b[0m\n\u001b[0m",
      "\u001b[0;31mAttributeError\u001b[0m: module 'pandas' has no attribute 'null'"
     ]
    }
   ],
   "source": [
    "pd.null"
   ]
  },
  {
   "cell_type": "code",
   "execution_count": 141,
   "metadata": {},
   "outputs": [],
   "source": [
    "def fetch_dividends(sym):\n",
    "    \"\"\"Given a symbol returns a dataframe of dividends\"\"\"\n",
    "    symbol_dividends = polygon.dividends(sym)\n",
    "    fields = ['amount', 'declaredDate', 'exDate', 'indicated', 'paymentDate', 'qualified', 'recordDate', 'symbol', 'type']\n",
    "    # Initialize general data structure\n",
    "    output = {}\n",
    "    for field in fields:\n",
    "        output[field] = []\n",
    "    \n",
    "    for dividend in symbol_dividends:\n",
    "        for field in fields:\n",
    "            converted = dividend._raw\n",
    "            try:\n",
    "                output[field].append(converted[field])\n",
    "            except:\n",
    "                output[field].append(np.nan)\n",
    "            \n",
    "    df = pd.DataFrame.from_dict(output)\n",
    "    for date_field in [x for x in fields if 'Date' in x]:\n",
    "        df[date_field] = pd.to_datetime(df[date_field])\n",
    "    return df \n",
    "\n",
    "def fetch_stock(sym, limit = 500):\n",
    "    \"\"\"Fetches limit entries for a given stock symbol and puts it in a dataframe\"\"\"\n",
    "    agg = polygon.historic_agg('day', sym, limit=limit).df\n",
    "    dates = [str(x).split(\"T\")[0] for x in agg.index.values]\n",
    "    agg['formatted_dates'] = pd.to_datetime(dates)\n",
    "    return agg"
   ]
  },
  {
   "cell_type": "code",
   "execution_count": 143,
   "metadata": {},
   "outputs": [],
   "source": [
    "appl_dat = fetch_stock(\"AAPL\")\n",
    "appl_div = fetch_dividends(\"AAPL\")"
   ]
  },
  {
   "cell_type": "code",
   "execution_count": 129,
   "metadata": {},
   "outputs": [],
   "source": []
  },
  {
   "cell_type": "code",
   "execution_count": 131,
   "metadata": {},
   "outputs": [],
   "source": []
  },
  {
   "cell_type": "code",
   "execution_count": 133,
   "metadata": {},
   "outputs": [],
   "source": []
  },
  {
   "cell_type": "code",
   "execution_count": null,
   "metadata": {},
   "outputs": [],
   "source": []
  }
 ],
 "metadata": {
  "kernelspec": {
   "display_name": "Python 3",
   "language": "python",
   "name": "python3"
  },
  "language_info": {
   "codemirror_mode": {
    "name": "ipython",
    "version": 3
   },
   "file_extension": ".py",
   "mimetype": "text/x-python",
   "name": "python",
   "nbconvert_exporter": "python",
   "pygments_lexer": "ipython3",
   "version": "3.7.2"
  }
 },
 "nbformat": 4,
 "nbformat_minor": 2
}
