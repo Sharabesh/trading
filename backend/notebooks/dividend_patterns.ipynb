{
 "cells": [
  {
   "cell_type": "code",
   "execution_count": 6,
   "metadata": {},
   "outputs": [],
   "source": [
    "import pandas as pd \n",
    "import numpy as np \n",
    "import matplotlib.pyplot as plt"
   ]
  },
  {
   "cell_type": "code",
   "execution_count": 9,
   "metadata": {},
   "outputs": [],
   "source": [
    "# Import existing api configuration code\n",
    "import sys\n",
    "sys.path.append('../trading')"
   ]
  },
  {
   "cell_type": "code",
   "execution_count": 10,
   "metadata": {},
   "outputs": [
    {
     "name": "stdout",
     "output_type": "stream",
     "text": [
      "ACCOUNT STATUS IS ACTIVE\n"
     ]
    }
   ],
   "source": [
    "from config import * "
   ]
  },
  {
   "cell_type": "code",
   "execution_count": 11,
   "metadata": {},
   "outputs": [],
   "source": [
    "polygon = api.polygon"
   ]
  },
  {
   "cell_type": "code",
   "execution_count": 17,
   "metadata": {},
   "outputs": [],
   "source": [
    "def fetch_dividends(sym):\n",
    "    \"\"\"Given a symbol returns a dataframe of dividends\"\"\"\n",
    "    symbol_dividends = polygon.dividends(sym)\n",
    "    fields = ['amount', 'declaredDate', 'exDate', 'indicated', 'paymentDate', 'qualified', 'recordDate', 'symbol', 'type']\n",
    "    # Initialize general data structure\n",
    "    output = {}\n",
    "    for field in fields:\n",
    "        output[field] = []\n",
    "    \n",
    "    for dividend in symbol_dividends:\n",
    "        for field in fields:\n",
    "            converted = dividend._raw\n",
    "            try:\n",
    "                output[field].append(converted[field])\n",
    "            except:\n",
    "                output[field].append(np.nan)\n",
    "            \n",
    "    df = pd.DataFrame.from_dict(output)\n",
    "    for date_field in [x for x in fields if 'Date' in x]:\n",
    "        df[date_field] = pd.to_datetime(df[date_field])\n",
    "    return df \n",
    "\n",
    "def fetch_stock(sym, limit = 499):\n",
    "    \"\"\"Fetches limit entries for a given stock symbol and puts it in a dataframe\"\"\"\n",
    "    agg = polygon.historic_agg('day', sym, limit=limit).df\n",
    "    dates = [str(x).split(\"T\")[0] for x in agg.index.values]\n",
    "    agg['formatted_dates'] = pd.to_datetime(dates)\n",
    "    return agg\n",
    "\n",
    "def fetch_dividend_pricing(sym, limit = 499):\n",
    "    \"\"\"Returns relevant price characteristics for a dividend stock over some period of time\n",
    "    Includes\n",
    "    Exdate - Ex dividend date \n",
    "    amount - The amount of the dividend output\n",
    "    open   - The opening price of the stock\n",
    "    high   - The high price of the stock that day \n",
    "    low    - The low price of the stock that day \n",
    "    close  - The closing price of the stock that day    \n",
    "    \"\"\"\n",
    "    a_dat = fetch_stock(sym, limit = limit)\n",
    "    a_div = fetch_dividends(sym)\n",
    "    joining_a_dat = a_dat[['open', 'high', 'low', 'close', 'formatted_dates']]\n",
    "    joining_a_dat = joining_a_dat.reset_index().drop(['day'], axis=1).set_index('formatted_dates')\n",
    "    joining_a_div = a_div.drop(['type','qualified','indicated', 'paymentDate', 'recordDate', 'symbol', 'declaredDate'], axis=1).set_index('exDate')\n",
    "    joined_data = joining_a_div.join(joining_a_dat)\n",
    "    return joined_data[pd.notnull(joined_data.open)]\n",
    "    \n",
    "    "
   ]
  },
  {
   "cell_type": "code",
   "execution_count": 28,
   "metadata": {},
   "outputs": [],
   "source": [
    "agg = fetch_stock(\"aapl\")"
   ]
  },
  {
   "cell_type": "code",
   "execution_count": 31,
   "metadata": {},
   "outputs": [],
   "source": [
    "agg = polygon.historic_agg('day', \"appl\", limit=1000).df"
   ]
  },
  {
   "cell_type": "code",
   "execution_count": 18,
   "metadata": {},
   "outputs": [],
   "source": [
    "appl_dat = fetch_stock(\"AAPL\")\n",
    "appl_div = fetch_dividends(\"AAPL\")"
   ]
  },
  {
   "cell_type": "code",
   "execution_count": 19,
   "metadata": {},
   "outputs": [],
   "source": [
    "appl_dat = fetch_dividend_pricing(\"AAPL\")"
   ]
  },
  {
   "cell_type": "code",
   "execution_count": 21,
   "metadata": {},
   "outputs": [
    {
     "data": {
      "text/plain": [
       "array(['2018-11-08T00:00:00.000000000', '2018-08-10T00:00:00.000000000',\n",
       "       '2018-05-11T00:00:00.000000000', '2018-02-09T00:00:00.000000000',\n",
       "       '2017-11-10T00:00:00.000000000', '2017-08-10T00:00:00.000000000'],\n",
       "      dtype='datetime64[ns]')"
      ]
     },
     "execution_count": 21,
     "metadata": {},
     "output_type": "execute_result"
    }
   ],
   "source": [
    "appl_dat.index.values"
   ]
  },
  {
   "cell_type": "code",
   "execution_count": 22,
   "metadata": {},
   "outputs": [
    {
     "data": {
      "text/plain": [
       "Timestamp('2018-11-06 00:00:00')"
      ]
     },
     "execution_count": 22,
     "metadata": {},
     "output_type": "execute_result"
    }
   ],
   "source": [
    "appl_dat.index[0] - pd.Timedelta(days = 2)"
   ]
  },
  {
   "cell_type": "code",
   "execution_count": 23,
   "metadata": {},
   "outputs": [],
   "source": [
    "# TODO Find a way to determine whether the stock recovers well post-dividend distribution"
   ]
  },
  {
   "cell_type": "code",
   "execution_count": null,
   "metadata": {},
   "outputs": [],
   "source": []
  }
 ],
 "metadata": {
  "kernelspec": {
   "display_name": "Python 3",
   "language": "python",
   "name": "python3"
  },
  "language_info": {
   "codemirror_mode": {
    "name": "ipython",
    "version": 3
   },
   "file_extension": ".py",
   "mimetype": "text/x-python",
   "name": "python",
   "nbconvert_exporter": "python",
   "pygments_lexer": "ipython3",
   "version": "3.7.3"
  }
 },
 "nbformat": 4,
 "nbformat_minor": 2
}
